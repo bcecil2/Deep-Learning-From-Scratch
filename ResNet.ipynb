{
  "nbformat": 4,
  "nbformat_minor": 0,
  "metadata": {
    "colab": {
      "name": "ResNet.ipynb",
      "provenance": [],
      "collapsed_sections": [],
      "authorship_tag": "ABX9TyMNqnOnpn7qsi7wLyKvFgvM",
      "include_colab_link": true
    },
    "kernelspec": {
      "name": "python3",
      "display_name": "Python 3"
    },
    "language_info": {
      "name": "python"
    },
    "accelerator": "GPU"
  },
  "cells": [
    {
      "cell_type": "markdown",
      "metadata": {
        "id": "view-in-github",
        "colab_type": "text"
      },
      "source": [
        "<a href=\"https://colab.research.google.com/github/bcecil2/Deep-Learning-From-Scratch/blob/main/ResNet.ipynb\" target=\"_parent\"><img src=\"https://colab.research.google.com/assets/colab-badge.svg\" alt=\"Open In Colab\"/></a>"
      ]
    },
    {
      "cell_type": "code",
      "metadata": {
        "id": "NTSItFQMM-YK"
      },
      "source": [
        "import torch \n",
        "import torch.nn as nn\n",
        "import torchvision\n",
        "import torchvision.transforms as transforms\n"
      ],
      "execution_count": null,
      "outputs": []
    },
    {
      "cell_type": "code",
      "metadata": {
        "id": "gg4Uvjukh9Ej"
      },
      "source": [
        ""
      ],
      "execution_count": null,
      "outputs": []
    },
    {
      "cell_type": "code",
      "metadata": {
        "id": "tU5djEuWUium"
      },
      "source": [
        "def conv3x3(inC,outC,stride=1,padding=1):\n",
        "  return nn.Conv2d(inC,outC,3,stride=stride,padding=padding,bias=False)\n",
        "\n",
        "class ResidualBlock(nn.Module):\n",
        "    def __init__(self, in_channels, out_channels, stride=1, downsample=None):\n",
        "        super(ResidualBlock, self).__init__()\n",
        "        self.conv1 = conv3x3(in_channels, out_channels, stride)\n",
        "        self.bn1 = nn.BatchNorm2d(out_channels)\n",
        "        self.relu = nn.ReLU(inplace=True)\n",
        "        self.conv2 = conv3x3(out_channels, out_channels)\n",
        "        self.bn2 = nn.BatchNorm2d(out_channels)\n",
        "        self.downsample = downsample\n",
        "\n",
        "    def forward(self, x):\n",
        "        residual = x\n",
        "        out = self.conv1(x)\n",
        "        out = self.bn1(out)\n",
        "        out = self.relu(out)\n",
        "        out = self.conv2(out)\n",
        "        out = self.bn2(out)\n",
        "        if self.downsample:\n",
        "            residual = self.downsample(x)\n",
        "        out += residual\n",
        "        out = self.relu(out)\n",
        "        return out\n",
        "    \n",
        "class ResNet(nn.Module):\n",
        "  def __init__(self,imChannels,numClasses,nLayers):\n",
        "    super(ResNet,self).__init__()\n",
        "\n",
        "    self.c1 = conv3x3(imChannels,16)\n",
        "    self.b1 = nn.BatchNorm2d(16)\n",
        "    self.l1 = self.makeLayers(nLayers[0],16,16,1)\n",
        "    self.l2 = self.makeLayers(nLayers[1],16,32,2)\n",
        "    self.l3 = self.makeLayers(nLayers[2],32,64,2)\n",
        "    \n",
        "    self.pool = nn.AdaptiveAvgPool2d((1,1))\n",
        "    self.FC = nn.Linear(64,numClasses)\n",
        "    self.sm = nn.Softmax(dim=1)\n",
        "    # blocks 3,4,5 have stride of 2\n",
        "  \n",
        "  def forward(self,x):\n",
        "    x = self.c1(x)\n",
        "    x = self.b1(x)\n",
        "    \n",
        "    x = self.l1(x)\n",
        "    x = self.l2(x)\n",
        "    x = self.l3(x)\n",
        "    \n",
        "    x = self.pool(x)\n",
        "    x = x.view(-1,64)\n",
        "    x = self.FC(x)\n",
        "    return self.sm(x)\n",
        "\n",
        "  def makeLayers(self,n,inC,outC,stride):\n",
        "    \n",
        "    downSample = None\n",
        "    if stride != 1:\n",
        "      downSample = nn.Sequential(conv3x3(inC,outC,stride=stride),\n",
        "                                 nn.BatchNorm2d(outC))\n",
        "    \n",
        "    layers = []\n",
        "    layers.append(ResidualBlock(inC,outC,stride=stride,downsample=downSample))\n",
        "    for i in range(n-1):\n",
        "      layers.append(ResidualBlock(outC,outC))\n",
        "    \n",
        "    return nn.Sequential(*layers)\n"
      ],
      "execution_count": null,
      "outputs": []
    },
    {
      "cell_type": "code",
      "metadata": {
        "id": "Vw_vo83NVDmk"
      },
      "source": [
        ""
      ],
      "execution_count": null,
      "outputs": []
    },
    {
      "cell_type": "code",
      "metadata": {
        "colab": {
          "base_uri": "https://localhost:8080/"
        },
        "id": "degTsn5ecBWO",
        "outputId": "a8a87147-bcb9-4124-c548-1346b1764228"
      },
      "source": [
        ""
      ],
      "execution_count": null,
      "outputs": [
        {
          "output_type": "stream",
          "text": [
            "torch.Size([4, 3, 32, 32])\n",
            "tensor([1, 2, 3, 2])\n"
          ],
          "name": "stdout"
        }
      ]
    },
    {
      "cell_type": "code",
      "metadata": {
        "id": "eCClz8a9chrm",
        "colab": {
          "base_uri": "https://localhost:8080/"
        },
        "outputId": "a092480f-037a-4694-f057-a0d2fd0d881e"
      },
      "source": [
        "from torchsummary import summary\n",
        "R = ResNet(3,10,[9,9,9])\n",
        "R = R.cuda()\n",
        "summary(R, (3,32,32))"
      ],
      "execution_count": null,
      "outputs": [
        {
          "output_type": "stream",
          "text": [
            "----------------------------------------------------------------\n",
            "        Layer (type)               Output Shape         Param #\n",
            "================================================================\n",
            "            Conv2d-1           [-1, 16, 32, 32]             432\n",
            "       BatchNorm2d-2           [-1, 16, 32, 32]              32\n",
            "            Conv2d-3           [-1, 16, 32, 32]           2,304\n",
            "       BatchNorm2d-4           [-1, 16, 32, 32]              32\n",
            "              ReLU-5           [-1, 16, 32, 32]               0\n",
            "            Conv2d-6           [-1, 16, 32, 32]           2,304\n",
            "       BatchNorm2d-7           [-1, 16, 32, 32]              32\n",
            "              ReLU-8           [-1, 16, 32, 32]               0\n",
            "     ResidualBlock-9           [-1, 16, 32, 32]               0\n",
            "           Conv2d-10           [-1, 16, 32, 32]           2,304\n",
            "      BatchNorm2d-11           [-1, 16, 32, 32]              32\n",
            "             ReLU-12           [-1, 16, 32, 32]               0\n",
            "           Conv2d-13           [-1, 16, 32, 32]           2,304\n",
            "      BatchNorm2d-14           [-1, 16, 32, 32]              32\n",
            "             ReLU-15           [-1, 16, 32, 32]               0\n",
            "    ResidualBlock-16           [-1, 16, 32, 32]               0\n",
            "           Conv2d-17           [-1, 16, 32, 32]           2,304\n",
            "      BatchNorm2d-18           [-1, 16, 32, 32]              32\n",
            "             ReLU-19           [-1, 16, 32, 32]               0\n",
            "           Conv2d-20           [-1, 16, 32, 32]           2,304\n",
            "      BatchNorm2d-21           [-1, 16, 32, 32]              32\n",
            "             ReLU-22           [-1, 16, 32, 32]               0\n",
            "    ResidualBlock-23           [-1, 16, 32, 32]               0\n",
            "           Conv2d-24           [-1, 16, 32, 32]           2,304\n",
            "      BatchNorm2d-25           [-1, 16, 32, 32]              32\n",
            "             ReLU-26           [-1, 16, 32, 32]               0\n",
            "           Conv2d-27           [-1, 16, 32, 32]           2,304\n",
            "      BatchNorm2d-28           [-1, 16, 32, 32]              32\n",
            "             ReLU-29           [-1, 16, 32, 32]               0\n",
            "    ResidualBlock-30           [-1, 16, 32, 32]               0\n",
            "           Conv2d-31           [-1, 16, 32, 32]           2,304\n",
            "      BatchNorm2d-32           [-1, 16, 32, 32]              32\n",
            "             ReLU-33           [-1, 16, 32, 32]               0\n",
            "           Conv2d-34           [-1, 16, 32, 32]           2,304\n",
            "      BatchNorm2d-35           [-1, 16, 32, 32]              32\n",
            "             ReLU-36           [-1, 16, 32, 32]               0\n",
            "    ResidualBlock-37           [-1, 16, 32, 32]               0\n",
            "           Conv2d-38           [-1, 16, 32, 32]           2,304\n",
            "      BatchNorm2d-39           [-1, 16, 32, 32]              32\n",
            "             ReLU-40           [-1, 16, 32, 32]               0\n",
            "           Conv2d-41           [-1, 16, 32, 32]           2,304\n",
            "      BatchNorm2d-42           [-1, 16, 32, 32]              32\n",
            "             ReLU-43           [-1, 16, 32, 32]               0\n",
            "    ResidualBlock-44           [-1, 16, 32, 32]               0\n",
            "           Conv2d-45           [-1, 16, 32, 32]           2,304\n",
            "      BatchNorm2d-46           [-1, 16, 32, 32]              32\n",
            "             ReLU-47           [-1, 16, 32, 32]               0\n",
            "           Conv2d-48           [-1, 16, 32, 32]           2,304\n",
            "      BatchNorm2d-49           [-1, 16, 32, 32]              32\n",
            "             ReLU-50           [-1, 16, 32, 32]               0\n",
            "    ResidualBlock-51           [-1, 16, 32, 32]               0\n",
            "           Conv2d-52           [-1, 16, 32, 32]           2,304\n",
            "      BatchNorm2d-53           [-1, 16, 32, 32]              32\n",
            "             ReLU-54           [-1, 16, 32, 32]               0\n",
            "           Conv2d-55           [-1, 16, 32, 32]           2,304\n",
            "      BatchNorm2d-56           [-1, 16, 32, 32]              32\n",
            "             ReLU-57           [-1, 16, 32, 32]               0\n",
            "    ResidualBlock-58           [-1, 16, 32, 32]               0\n",
            "           Conv2d-59           [-1, 16, 32, 32]           2,304\n",
            "      BatchNorm2d-60           [-1, 16, 32, 32]              32\n",
            "             ReLU-61           [-1, 16, 32, 32]               0\n",
            "           Conv2d-62           [-1, 16, 32, 32]           2,304\n",
            "      BatchNorm2d-63           [-1, 16, 32, 32]              32\n",
            "             ReLU-64           [-1, 16, 32, 32]               0\n",
            "    ResidualBlock-65           [-1, 16, 32, 32]               0\n",
            "           Conv2d-66           [-1, 32, 16, 16]           4,608\n",
            "      BatchNorm2d-67           [-1, 32, 16, 16]              64\n",
            "             ReLU-68           [-1, 32, 16, 16]               0\n",
            "           Conv2d-69           [-1, 32, 16, 16]           9,216\n",
            "      BatchNorm2d-70           [-1, 32, 16, 16]              64\n",
            "           Conv2d-71           [-1, 32, 16, 16]           4,608\n",
            "      BatchNorm2d-72           [-1, 32, 16, 16]              64\n",
            "             ReLU-73           [-1, 32, 16, 16]               0\n",
            "    ResidualBlock-74           [-1, 32, 16, 16]               0\n",
            "           Conv2d-75           [-1, 32, 16, 16]           9,216\n",
            "      BatchNorm2d-76           [-1, 32, 16, 16]              64\n",
            "             ReLU-77           [-1, 32, 16, 16]               0\n",
            "           Conv2d-78           [-1, 32, 16, 16]           9,216\n",
            "      BatchNorm2d-79           [-1, 32, 16, 16]              64\n",
            "             ReLU-80           [-1, 32, 16, 16]               0\n",
            "    ResidualBlock-81           [-1, 32, 16, 16]               0\n",
            "           Conv2d-82           [-1, 32, 16, 16]           9,216\n",
            "      BatchNorm2d-83           [-1, 32, 16, 16]              64\n",
            "             ReLU-84           [-1, 32, 16, 16]               0\n",
            "           Conv2d-85           [-1, 32, 16, 16]           9,216\n",
            "      BatchNorm2d-86           [-1, 32, 16, 16]              64\n",
            "             ReLU-87           [-1, 32, 16, 16]               0\n",
            "    ResidualBlock-88           [-1, 32, 16, 16]               0\n",
            "           Conv2d-89           [-1, 32, 16, 16]           9,216\n",
            "      BatchNorm2d-90           [-1, 32, 16, 16]              64\n",
            "             ReLU-91           [-1, 32, 16, 16]               0\n",
            "           Conv2d-92           [-1, 32, 16, 16]           9,216\n",
            "      BatchNorm2d-93           [-1, 32, 16, 16]              64\n",
            "             ReLU-94           [-1, 32, 16, 16]               0\n",
            "    ResidualBlock-95           [-1, 32, 16, 16]               0\n",
            "           Conv2d-96           [-1, 32, 16, 16]           9,216\n",
            "      BatchNorm2d-97           [-1, 32, 16, 16]              64\n",
            "             ReLU-98           [-1, 32, 16, 16]               0\n",
            "           Conv2d-99           [-1, 32, 16, 16]           9,216\n",
            "     BatchNorm2d-100           [-1, 32, 16, 16]              64\n",
            "            ReLU-101           [-1, 32, 16, 16]               0\n",
            "   ResidualBlock-102           [-1, 32, 16, 16]               0\n",
            "          Conv2d-103           [-1, 32, 16, 16]           9,216\n",
            "     BatchNorm2d-104           [-1, 32, 16, 16]              64\n",
            "            ReLU-105           [-1, 32, 16, 16]               0\n",
            "          Conv2d-106           [-1, 32, 16, 16]           9,216\n",
            "     BatchNorm2d-107           [-1, 32, 16, 16]              64\n",
            "            ReLU-108           [-1, 32, 16, 16]               0\n",
            "   ResidualBlock-109           [-1, 32, 16, 16]               0\n",
            "          Conv2d-110           [-1, 32, 16, 16]           9,216\n",
            "     BatchNorm2d-111           [-1, 32, 16, 16]              64\n",
            "            ReLU-112           [-1, 32, 16, 16]               0\n",
            "          Conv2d-113           [-1, 32, 16, 16]           9,216\n",
            "     BatchNorm2d-114           [-1, 32, 16, 16]              64\n",
            "            ReLU-115           [-1, 32, 16, 16]               0\n",
            "   ResidualBlock-116           [-1, 32, 16, 16]               0\n",
            "          Conv2d-117           [-1, 32, 16, 16]           9,216\n",
            "     BatchNorm2d-118           [-1, 32, 16, 16]              64\n",
            "            ReLU-119           [-1, 32, 16, 16]               0\n",
            "          Conv2d-120           [-1, 32, 16, 16]           9,216\n",
            "     BatchNorm2d-121           [-1, 32, 16, 16]              64\n",
            "            ReLU-122           [-1, 32, 16, 16]               0\n",
            "   ResidualBlock-123           [-1, 32, 16, 16]               0\n",
            "          Conv2d-124           [-1, 32, 16, 16]           9,216\n",
            "     BatchNorm2d-125           [-1, 32, 16, 16]              64\n",
            "            ReLU-126           [-1, 32, 16, 16]               0\n",
            "          Conv2d-127           [-1, 32, 16, 16]           9,216\n",
            "     BatchNorm2d-128           [-1, 32, 16, 16]              64\n",
            "            ReLU-129           [-1, 32, 16, 16]               0\n",
            "   ResidualBlock-130           [-1, 32, 16, 16]               0\n",
            "          Conv2d-131             [-1, 64, 8, 8]          18,432\n",
            "     BatchNorm2d-132             [-1, 64, 8, 8]             128\n",
            "            ReLU-133             [-1, 64, 8, 8]               0\n",
            "          Conv2d-134             [-1, 64, 8, 8]          36,864\n",
            "     BatchNorm2d-135             [-1, 64, 8, 8]             128\n",
            "          Conv2d-136             [-1, 64, 8, 8]          18,432\n",
            "     BatchNorm2d-137             [-1, 64, 8, 8]             128\n",
            "            ReLU-138             [-1, 64, 8, 8]               0\n",
            "   ResidualBlock-139             [-1, 64, 8, 8]               0\n",
            "          Conv2d-140             [-1, 64, 8, 8]          36,864\n",
            "     BatchNorm2d-141             [-1, 64, 8, 8]             128\n",
            "            ReLU-142             [-1, 64, 8, 8]               0\n",
            "          Conv2d-143             [-1, 64, 8, 8]          36,864\n",
            "     BatchNorm2d-144             [-1, 64, 8, 8]             128\n",
            "            ReLU-145             [-1, 64, 8, 8]               0\n",
            "   ResidualBlock-146             [-1, 64, 8, 8]               0\n",
            "          Conv2d-147             [-1, 64, 8, 8]          36,864\n",
            "     BatchNorm2d-148             [-1, 64, 8, 8]             128\n",
            "            ReLU-149             [-1, 64, 8, 8]               0\n",
            "          Conv2d-150             [-1, 64, 8, 8]          36,864\n",
            "     BatchNorm2d-151             [-1, 64, 8, 8]             128\n",
            "            ReLU-152             [-1, 64, 8, 8]               0\n",
            "   ResidualBlock-153             [-1, 64, 8, 8]               0\n",
            "          Conv2d-154             [-1, 64, 8, 8]          36,864\n",
            "     BatchNorm2d-155             [-1, 64, 8, 8]             128\n",
            "            ReLU-156             [-1, 64, 8, 8]               0\n",
            "          Conv2d-157             [-1, 64, 8, 8]          36,864\n",
            "     BatchNorm2d-158             [-1, 64, 8, 8]             128\n",
            "            ReLU-159             [-1, 64, 8, 8]               0\n",
            "   ResidualBlock-160             [-1, 64, 8, 8]               0\n",
            "          Conv2d-161             [-1, 64, 8, 8]          36,864\n",
            "     BatchNorm2d-162             [-1, 64, 8, 8]             128\n",
            "            ReLU-163             [-1, 64, 8, 8]               0\n",
            "          Conv2d-164             [-1, 64, 8, 8]          36,864\n",
            "     BatchNorm2d-165             [-1, 64, 8, 8]             128\n",
            "            ReLU-166             [-1, 64, 8, 8]               0\n",
            "   ResidualBlock-167             [-1, 64, 8, 8]               0\n",
            "          Conv2d-168             [-1, 64, 8, 8]          36,864\n",
            "     BatchNorm2d-169             [-1, 64, 8, 8]             128\n",
            "            ReLU-170             [-1, 64, 8, 8]               0\n",
            "          Conv2d-171             [-1, 64, 8, 8]          36,864\n",
            "     BatchNorm2d-172             [-1, 64, 8, 8]             128\n",
            "            ReLU-173             [-1, 64, 8, 8]               0\n",
            "   ResidualBlock-174             [-1, 64, 8, 8]               0\n",
            "          Conv2d-175             [-1, 64, 8, 8]          36,864\n",
            "     BatchNorm2d-176             [-1, 64, 8, 8]             128\n",
            "            ReLU-177             [-1, 64, 8, 8]               0\n",
            "          Conv2d-178             [-1, 64, 8, 8]          36,864\n",
            "     BatchNorm2d-179             [-1, 64, 8, 8]             128\n",
            "            ReLU-180             [-1, 64, 8, 8]               0\n",
            "   ResidualBlock-181             [-1, 64, 8, 8]               0\n",
            "          Conv2d-182             [-1, 64, 8, 8]          36,864\n",
            "     BatchNorm2d-183             [-1, 64, 8, 8]             128\n",
            "            ReLU-184             [-1, 64, 8, 8]               0\n",
            "          Conv2d-185             [-1, 64, 8, 8]          36,864\n",
            "     BatchNorm2d-186             [-1, 64, 8, 8]             128\n",
            "            ReLU-187             [-1, 64, 8, 8]               0\n",
            "   ResidualBlock-188             [-1, 64, 8, 8]               0\n",
            "          Conv2d-189             [-1, 64, 8, 8]          36,864\n",
            "     BatchNorm2d-190             [-1, 64, 8, 8]             128\n",
            "            ReLU-191             [-1, 64, 8, 8]               0\n",
            "          Conv2d-192             [-1, 64, 8, 8]          36,864\n",
            "     BatchNorm2d-193             [-1, 64, 8, 8]             128\n",
            "            ReLU-194             [-1, 64, 8, 8]               0\n",
            "   ResidualBlock-195             [-1, 64, 8, 8]               0\n",
            "AdaptiveAvgPool2d-196             [-1, 64, 1, 1]               0\n",
            "          Linear-197                   [-1, 10]             650\n",
            "         Softmax-198                   [-1, 10]               0\n",
            "================================================================\n",
            "Total params: 876,250\n",
            "Trainable params: 876,250\n",
            "Non-trainable params: 0\n",
            "----------------------------------------------------------------\n",
            "Input size (MB): 0.01\n",
            "Forward/backward pass size (MB): 14.22\n",
            "Params size (MB): 3.34\n",
            "Estimated Total Size (MB): 17.57\n",
            "----------------------------------------------------------------\n"
          ],
          "name": "stdout"
        }
      ]
    },
    {
      "cell_type": "code",
      "metadata": {
        "id": "LNgNbQfhiz1y"
      },
      "source": [
        "device = torch.device('cuda' if torch.cuda.is_available() else 'cpu')"
      ],
      "execution_count": null,
      "outputs": []
    },
    {
      "cell_type": "code",
      "metadata": {
        "colab": {
          "base_uri": "https://localhost:8080/"
        },
        "id": "qNnMullCk0o9",
        "outputId": "5fd3794c-f5a8-4346-f47c-6dbfde747081"
      },
      "source": [
        "def s(h,w,p,k,s):\n",
        "  nh = ((h + 2*p - (k-1)-1)/s) + 1\n",
        "  nw = ((w + 2*p - (k-1)-1)/s) + 1\n",
        "  return nh,nw\n",
        "\n",
        "\n",
        "print(s(32,32,1,3,2))"
      ],
      "execution_count": null,
      "outputs": [
        {
          "output_type": "stream",
          "text": [
            "(16.5, 16.5)\n"
          ],
          "name": "stdout"
        }
      ]
    },
    {
      "cell_type": "code",
      "metadata": {
        "colab": {
          "base_uri": "https://localhost:8080/"
        },
        "id": "rAoFE20Ax2Q2",
        "outputId": "937786de-a122-49af-bf33-b123f02842db"
      },
      "source": [
        "transform = transforms.Compose(\n",
        "    [\n",
        "     transforms.Pad(4),\n",
        "     transforms.RandomHorizontalFlip(),\n",
        "     transforms.RandomCrop(32),\n",
        "     transforms.ToTensor()])\n",
        "\n",
        "batch_size = 128\n",
        "\n",
        "trainset = torchvision.datasets.CIFAR10(root='./data', train=True,\n",
        "                                        download=True, transform=transform)\n",
        "trainloader = torch.utils.data.DataLoader(trainset, batch_size=batch_size,\n",
        "                                          shuffle=True, num_workers=2)\n",
        "\n",
        "testset = torchvision.datasets.CIFAR10(root='./data', train=False,\n",
        "                                       download=True, transform=transform)\n",
        "testloader = torch.utils.data.DataLoader(testset, batch_size=batch_size,\n",
        "                                         shuffle=False, num_workers=2)\n",
        "\n",
        "classes = ('plane', 'car', 'bird', 'cat',\n",
        "           'deer', 'dog', 'frog', 'horse', 'ship', 'truck')"
      ],
      "execution_count": null,
      "outputs": [
        {
          "output_type": "stream",
          "text": [
            "Files already downloaded and verified\n",
            "Files already downloaded and verified\n"
          ],
          "name": "stdout"
        }
      ]
    },
    {
      "cell_type": "code",
      "metadata": {
        "colab": {
          "base_uri": "https://localhost:8080/"
        },
        "id": "MGhpinH-92gw",
        "outputId": "14d2da55-e7ad-4430-9333-145203509db1"
      },
      "source": [
        "\n",
        "epochs = 50\n",
        "learning_rate = 0.001\n",
        "crit = nn.CrossEntropyLoss()\n",
        "optim = torch.optim.Adam(R.parameters(), lr=learning_rate, weight_decay=0.0001)\n",
        "\n",
        "\n",
        "for epoch in range(epochs):\n",
        "  for i,(img,l) in enumerate(trainloader):\n",
        "    optim.zero_grad()\n",
        "    img = img.to(device)\n",
        "    l = l.to(device)\n",
        "    out = R(img)\n",
        "    loss = crit(out,l)\n",
        "    loss.backward()\n",
        "    optim.step()\n",
        "\n",
        "    if (i+1) % 100 == 0:\n",
        "            print (\"Epoch [{}/{}], Step [{}/{}] Loss: {:.4f}\"\n",
        "                   .format(epoch+1, epochs, i+1, 379, loss.item()))\n",
        "    \n"
      ],
      "execution_count": null,
      "outputs": [
        {
          "output_type": "stream",
          "text": [
            "Epoch [1/50], Step [100/379] Loss: 2.1848\n",
            "Epoch [1/50], Step [200/379] Loss: 2.1060\n",
            "Epoch [1/50], Step [300/379] Loss: 2.1012\n",
            "Epoch [2/50], Step [100/379] Loss: 2.0679\n",
            "Epoch [2/50], Step [200/379] Loss: 2.1730\n",
            "Epoch [2/50], Step [300/379] Loss: 2.0633\n",
            "Epoch [3/50], Step [100/379] Loss: 2.0595\n",
            "Epoch [3/50], Step [200/379] Loss: 2.0030\n",
            "Epoch [3/50], Step [300/379] Loss: 2.0603\n",
            "Epoch [4/50], Step [100/379] Loss: 1.9824\n",
            "Epoch [4/50], Step [200/379] Loss: 1.9124\n",
            "Epoch [4/50], Step [300/379] Loss: 1.9619\n",
            "Epoch [5/50], Step [100/379] Loss: 1.9376\n",
            "Epoch [5/50], Step [200/379] Loss: 1.8361\n",
            "Epoch [5/50], Step [300/379] Loss: 1.8338\n",
            "Epoch [6/50], Step [100/379] Loss: 1.9037\n",
            "Epoch [6/50], Step [200/379] Loss: 1.9186\n",
            "Epoch [6/50], Step [300/379] Loss: 1.8812\n",
            "Epoch [7/50], Step [100/379] Loss: 1.8279\n",
            "Epoch [7/50], Step [200/379] Loss: 1.8464\n",
            "Epoch [7/50], Step [300/379] Loss: 1.7968\n",
            "Epoch [8/50], Step [100/379] Loss: 1.8058\n",
            "Epoch [8/50], Step [200/379] Loss: 1.8385\n",
            "Epoch [8/50], Step [300/379] Loss: 1.8296\n",
            "Epoch [9/50], Step [100/379] Loss: 1.8473\n",
            "Epoch [9/50], Step [200/379] Loss: 1.8029\n",
            "Epoch [9/50], Step [300/379] Loss: 1.8354\n",
            "Epoch [10/50], Step [100/379] Loss: 1.7563\n",
            "Epoch [10/50], Step [200/379] Loss: 1.6824\n",
            "Epoch [10/50], Step [300/379] Loss: 1.7268\n",
            "Epoch [11/50], Step [100/379] Loss: 1.7538\n",
            "Epoch [11/50], Step [200/379] Loss: 1.7342\n",
            "Epoch [11/50], Step [300/379] Loss: 1.7401\n",
            "Epoch [12/50], Step [100/379] Loss: 1.7639\n",
            "Epoch [12/50], Step [200/379] Loss: 1.7937\n",
            "Epoch [12/50], Step [300/379] Loss: 1.7601\n",
            "Epoch [13/50], Step [100/379] Loss: 1.7786\n",
            "Epoch [13/50], Step [200/379] Loss: 1.6804\n",
            "Epoch [13/50], Step [300/379] Loss: 1.7877\n",
            "Epoch [14/50], Step [100/379] Loss: 1.7220\n",
            "Epoch [14/50], Step [200/379] Loss: 1.6936\n",
            "Epoch [14/50], Step [300/379] Loss: 1.7553\n",
            "Epoch [15/50], Step [100/379] Loss: 1.7457\n",
            "Epoch [15/50], Step [200/379] Loss: 1.6855\n",
            "Epoch [15/50], Step [300/379] Loss: 1.7126\n",
            "Epoch [16/50], Step [100/379] Loss: 1.6951\n",
            "Epoch [16/50], Step [200/379] Loss: 1.7030\n",
            "Epoch [16/50], Step [300/379] Loss: 1.6881\n",
            "Epoch [17/50], Step [100/379] Loss: 1.7361\n",
            "Epoch [17/50], Step [200/379] Loss: 1.6346\n",
            "Epoch [17/50], Step [300/379] Loss: 1.7607\n",
            "Epoch [18/50], Step [100/379] Loss: 1.6342\n",
            "Epoch [18/50], Step [200/379] Loss: 1.6974\n",
            "Epoch [18/50], Step [300/379] Loss: 1.6999\n",
            "Epoch [19/50], Step [100/379] Loss: 1.7450\n",
            "Epoch [19/50], Step [200/379] Loss: 1.6954\n",
            "Epoch [19/50], Step [300/379] Loss: 1.7004\n",
            "Epoch [20/50], Step [100/379] Loss: 1.6468\n",
            "Epoch [20/50], Step [200/379] Loss: 1.7534\n",
            "Epoch [20/50], Step [300/379] Loss: 1.7405\n",
            "Epoch [21/50], Step [100/379] Loss: 1.7124\n",
            "Epoch [21/50], Step [200/379] Loss: 1.6329\n",
            "Epoch [21/50], Step [300/379] Loss: 1.7055\n",
            "Epoch [22/50], Step [100/379] Loss: 1.5960\n",
            "Epoch [22/50], Step [200/379] Loss: 1.7122\n",
            "Epoch [22/50], Step [300/379] Loss: 1.6324\n",
            "Epoch [23/50], Step [100/379] Loss: 1.7425\n",
            "Epoch [23/50], Step [200/379] Loss: 1.6443\n",
            "Epoch [23/50], Step [300/379] Loss: 1.6494\n",
            "Epoch [24/50], Step [100/379] Loss: 1.6447\n",
            "Epoch [24/50], Step [200/379] Loss: 1.6511\n",
            "Epoch [24/50], Step [300/379] Loss: 1.6521\n",
            "Epoch [25/50], Step [100/379] Loss: 1.6501\n",
            "Epoch [25/50], Step [200/379] Loss: 1.6736\n",
            "Epoch [25/50], Step [300/379] Loss: 1.6652\n",
            "Epoch [26/50], Step [100/379] Loss: 1.6685\n",
            "Epoch [26/50], Step [200/379] Loss: 1.7098\n",
            "Epoch [26/50], Step [300/379] Loss: 1.6216\n",
            "Epoch [27/50], Step [100/379] Loss: 1.6788\n",
            "Epoch [27/50], Step [200/379] Loss: 1.6313\n",
            "Epoch [27/50], Step [300/379] Loss: 1.6657\n",
            "Epoch [28/50], Step [100/379] Loss: 1.6876\n",
            "Epoch [28/50], Step [200/379] Loss: 1.6496\n",
            "Epoch [28/50], Step [300/379] Loss: 1.7006\n",
            "Epoch [29/50], Step [100/379] Loss: 1.6516\n",
            "Epoch [29/50], Step [200/379] Loss: 1.7297\n",
            "Epoch [29/50], Step [300/379] Loss: 1.6898\n",
            "Epoch [30/50], Step [100/379] Loss: 1.6561\n",
            "Epoch [30/50], Step [200/379] Loss: 1.7106\n",
            "Epoch [30/50], Step [300/379] Loss: 1.7038\n",
            "Epoch [31/50], Step [100/379] Loss: 1.6221\n",
            "Epoch [31/50], Step [200/379] Loss: 1.6824\n",
            "Epoch [31/50], Step [300/379] Loss: 1.6673\n",
            "Epoch [32/50], Step [100/379] Loss: 1.6383\n",
            "Epoch [32/50], Step [200/379] Loss: 1.6599\n",
            "Epoch [32/50], Step [300/379] Loss: 1.6405\n",
            "Epoch [33/50], Step [100/379] Loss: 1.6745\n",
            "Epoch [33/50], Step [200/379] Loss: 1.6343\n",
            "Epoch [33/50], Step [300/379] Loss: 1.6057\n",
            "Epoch [34/50], Step [100/379] Loss: 1.6495\n",
            "Epoch [34/50], Step [200/379] Loss: 1.6117\n",
            "Epoch [34/50], Step [300/379] Loss: 1.6571\n",
            "Epoch [35/50], Step [100/379] Loss: 1.7331\n",
            "Epoch [35/50], Step [200/379] Loss: 1.6292\n",
            "Epoch [35/50], Step [300/379] Loss: 1.6593\n",
            "Epoch [36/50], Step [100/379] Loss: 1.6700\n",
            "Epoch [36/50], Step [200/379] Loss: 1.6628\n",
            "Epoch [36/50], Step [300/379] Loss: 1.6072\n",
            "Epoch [37/50], Step [100/379] Loss: 1.6893\n",
            "Epoch [37/50], Step [200/379] Loss: 1.6921\n",
            "Epoch [37/50], Step [300/379] Loss: 1.6563\n",
            "Epoch [38/50], Step [100/379] Loss: 1.6148\n",
            "Epoch [38/50], Step [200/379] Loss: 1.6047\n",
            "Epoch [38/50], Step [300/379] Loss: 1.6185\n",
            "Epoch [39/50], Step [100/379] Loss: 1.6224\n",
            "Epoch [39/50], Step [200/379] Loss: 1.6612\n",
            "Epoch [39/50], Step [300/379] Loss: 1.6101\n",
            "Epoch [40/50], Step [100/379] Loss: 1.6494\n",
            "Epoch [40/50], Step [200/379] Loss: 1.6404\n",
            "Epoch [40/50], Step [300/379] Loss: 1.6490\n",
            "Epoch [41/50], Step [100/379] Loss: 1.6394\n",
            "Epoch [41/50], Step [200/379] Loss: 1.6402\n",
            "Epoch [41/50], Step [300/379] Loss: 1.6481\n",
            "Epoch [42/50], Step [100/379] Loss: 1.6388\n",
            "Epoch [42/50], Step [200/379] Loss: 1.6076\n",
            "Epoch [42/50], Step [300/379] Loss: 1.6205\n",
            "Epoch [43/50], Step [100/379] Loss: 1.6018\n",
            "Epoch [43/50], Step [200/379] Loss: 1.5915\n",
            "Epoch [43/50], Step [300/379] Loss: 1.5915\n",
            "Epoch [44/50], Step [100/379] Loss: 1.6090\n",
            "Epoch [44/50], Step [200/379] Loss: 1.6273\n",
            "Epoch [44/50], Step [300/379] Loss: 1.6597\n",
            "Epoch [45/50], Step [100/379] Loss: 1.5951\n",
            "Epoch [45/50], Step [200/379] Loss: 1.6866\n",
            "Epoch [45/50], Step [300/379] Loss: 1.6689\n",
            "Epoch [46/50], Step [100/379] Loss: 1.5737\n",
            "Epoch [46/50], Step [200/379] Loss: 1.6562\n",
            "Epoch [46/50], Step [300/379] Loss: 1.6597\n",
            "Epoch [47/50], Step [100/379] Loss: 1.6207\n",
            "Epoch [47/50], Step [200/379] Loss: 1.6437\n",
            "Epoch [47/50], Step [300/379] Loss: 1.6003\n",
            "Epoch [48/50], Step [100/379] Loss: 1.6250\n",
            "Epoch [48/50], Step [200/379] Loss: 1.6700\n",
            "Epoch [48/50], Step [300/379] Loss: 1.6870\n",
            "Epoch [49/50], Step [100/379] Loss: 1.6090\n",
            "Epoch [49/50], Step [200/379] Loss: 1.6205\n",
            "Epoch [49/50], Step [300/379] Loss: 1.5614\n",
            "Epoch [50/50], Step [100/379] Loss: 1.5983\n",
            "Epoch [50/50], Step [200/379] Loss: 1.6062\n",
            "Epoch [50/50], Step [300/379] Loss: 1.5526\n"
          ],
          "name": "stdout"
        }
      ]
    },
    {
      "cell_type": "code",
      "metadata": {
        "colab": {
          "base_uri": "https://localhost:8080/",
          "height": 318
        },
        "id": "Iie__BUPCKuB",
        "outputId": "656c3230-e166-466b-d3ec-f4c636ec98ff"
      },
      "source": [
        "import matplotlib.pyplot as plt\n",
        "print(losses[:10])\n",
        "plt.plot(losses)"
      ],
      "execution_count": null,
      "outputs": [
        {
          "output_type": "stream",
          "text": [
            "[2.1278464794158936, 2.080531120300293, 2.103219747543335, 2.1259756088256836, 2.116584300994873, 2.151034116744995, 2.1384544372558594, 2.1436803340911865, 2.133341073989868, 2.1002864837646484]\n"
          ],
          "name": "stdout"
        },
        {
          "output_type": "execute_result",
          "data": {
            "text/plain": [
              "[<matplotlib.lines.Line2D at 0x7f41d06290d0>]"
            ]
          },
          "metadata": {
            "tags": []
          },
          "execution_count": 126
        },
        {
          "output_type": "display_data",
          "data": {
            "image/png": "[encoded data removed]",
            "text/plain": [
              "<Figure size 432x288 with 1 Axes>"
            ]
          },
          "metadata": {
            "tags": [],
            "needs_background": "light"
          }
        }
      ]
    },
    {
      "cell_type": "code",
      "metadata": {
        "colab": {
          "base_uri": "https://localhost:8080/"
        },
        "id": "uohhQAMGAtlC",
        "outputId": "c334f84d-7fb9-4457-d9aa-6947dd9c5ba1"
      },
      "source": [
        "R.eval()\n",
        "with torch.no_grad():\n",
        "    correct = 0\n",
        "    total = 0\n",
        "    for images, labels in testloader:\n",
        "        images = images.to(device)\n",
        "        labels = labels.to(device)\n",
        "        outputs = R(images)\n",
        "        _, predicted = torch.max(outputs.data, 1)\n",
        "        total += labels.size(0)\n",
        "        correct += (predicted == labels).sum().item()\n",
        "\n",
        "    print('Accuracy of the model on the test images: {} %'.format(100 * correct / total))\n",
        "\n",
        "# Save the model checkpoint\n",
        "torch.save(R.state_dict(), 'resnet.ckpt')"
      ],
      "execution_count": null,
      "outputs": [
        {
          "output_type": "stream",
          "text": [
            "Accuracy of the model on the test images: 81.63 %\n"
          ],
          "name": "stdout"
        }
      ]
    },
    {
      "cell_type": "code",
      "metadata": {
        "colab": {
          "base_uri": "https://localhost:8080/"
        },
        "id": "DHFHsijKCJCN",
        "outputId": "f357900a-069f-42ac-e2ee-3152c683cfda"
      },
      "source": [
        "397*100"
      ],
      "execution_count": null,
      "outputs": [
        {
          "output_type": "execute_result",
          "data": {
            "text/plain": [
              "39700"
            ]
          },
          "metadata": {
            "tags": []
          },
          "execution_count": 2
        }
      ]
    },
    {
      "cell_type": "code",
      "metadata": {
        "id": "dtd1AALfW_WZ"
      },
      "source": [
        ""
      ],
      "execution_count": null,
      "outputs": []
    }
  ]
}